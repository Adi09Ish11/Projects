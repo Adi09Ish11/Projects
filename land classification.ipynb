{
 "cells": [
  {
   "cell_type": "code",
   "execution_count": 108,
   "metadata": {},
   "outputs": [],
   "source": [
    "import numpy as np\n",
    "%matplotlib inline\n",
    "import matplotlib.image as mpimg\n",
    "import matplotlib.pyplot as plt\n",
    "import tensorflow as tf\n",
    "tf.compat.v1.set_random_seed(2019)\n",
    "import cv2"
   ]
  },
  {
   "cell_type": "code",
   "execution_count": 109,
   "metadata": {},
   "outputs": [],
   "source": [
    "model = tf.keras.models.Sequential([\n",
    "    tf.keras.layers.Conv2D(16,(3,3),activation = \"relu\" , input_shape = (180,180,3)) ,\n",
    "    tf.keras.layers.MaxPooling2D(2,2),\n",
    "    tf.keras.layers.Conv2D(32,(3,3),activation = \"relu\") ,  \n",
    "    tf.keras.layers.MaxPooling2D(2,2),\n",
    "    tf.keras.layers.Conv2D(64,(3,3),activation = \"relu\") ,  \n",
    "    tf.keras.layers.MaxPooling2D(2,2),\n",
    "    tf.keras.layers.Conv2D(128,(3,3),activation = \"relu\"),  \n",
    "    tf.keras.layers.MaxPooling2D(2,2),\n",
    "    tf.keras.layers.Flatten(), \n",
    "    tf.keras.layers.Dense(550,activation=\"relu\"),      #Adding the Hidden layer\n",
    "    tf.keras.layers.Dropout(0.1,seed = 2019),\n",
    "    tf.keras.layers.Dense(400,activation =\"relu\"),\n",
    "    tf.keras.layers.Dropout(0.3,seed = 2019),\n",
    "    tf.keras.layers.Dense(300,activation=\"relu\"),\n",
    "    tf.keras.layers.Dropout(0.4,seed = 2019),\n",
    "    tf.keras.layers.Dense(200,activation =\"relu\"),\n",
    "    tf.keras.layers.Dropout(0.2,seed = 2019),\n",
    "    tf.keras.layers.Dense(3,activation = \"softmax\")   #Adding the Output Layer\n",
    "])"
   ]
  },
  {
   "cell_type": "code",
   "execution_count": 110,
   "metadata": {},
   "outputs": [
    {
     "name": "stdout",
     "output_type": "stream",
     "text": [
      "Model: \"sequential_15\"\n",
      "_________________________________________________________________\n",
      " Layer (type)                Output Shape              Param #   \n",
      "=================================================================\n",
      " conv2d_60 (Conv2D)          (None, 178, 178, 16)      448       \n",
      "                                                                 \n",
      " max_pooling2d_60 (MaxPoolin  (None, 89, 89, 16)       0         \n",
      " g2D)                                                            \n",
      "                                                                 \n",
      " conv2d_61 (Conv2D)          (None, 87, 87, 32)        4640      \n",
      "                                                                 \n",
      " max_pooling2d_61 (MaxPoolin  (None, 43, 43, 32)       0         \n",
      " g2D)                                                            \n",
      "                                                                 \n",
      " conv2d_62 (Conv2D)          (None, 41, 41, 64)        18496     \n",
      "                                                                 \n",
      " max_pooling2d_62 (MaxPoolin  (None, 20, 20, 64)       0         \n",
      " g2D)                                                            \n",
      "                                                                 \n",
      " conv2d_63 (Conv2D)          (None, 18, 18, 128)       73856     \n",
      "                                                                 \n",
      " max_pooling2d_63 (MaxPoolin  (None, 9, 9, 128)        0         \n",
      " g2D)                                                            \n",
      "                                                                 \n",
      " flatten_15 (Flatten)        (None, 10368)             0         \n",
      "                                                                 \n",
      " dense_55 (Dense)            (None, 550)               5702950   \n",
      "                                                                 \n",
      " dropout_50 (Dropout)        (None, 550)               0         \n",
      "                                                                 \n",
      " dense_56 (Dense)            (None, 400)               220400    \n",
      "                                                                 \n",
      " dropout_51 (Dropout)        (None, 400)               0         \n",
      "                                                                 \n",
      " dense_57 (Dense)            (None, 300)               120300    \n",
      "                                                                 \n",
      " dropout_52 (Dropout)        (None, 300)               0         \n",
      "                                                                 \n",
      " dense_58 (Dense)            (None, 200)               60200     \n",
      "                                                                 \n",
      " dropout_53 (Dropout)        (None, 200)               0         \n",
      "                                                                 \n",
      " dense_59 (Dense)            (None, 3)                 603       \n",
      "                                                                 \n",
      "=================================================================\n",
      "Total params: 6,201,893\n",
      "Trainable params: 6,201,893\n",
      "Non-trainable params: 0\n",
      "_________________________________________________________________\n"
     ]
    }
   ],
   "source": [
    "model.summary()"
   ]
  },
  {
   "cell_type": "code",
   "execution_count": 111,
   "metadata": {},
   "outputs": [],
   "source": [
    "from tensorflow.keras.optimizers import RMSprop,SGD\n",
    "from tensorflow.keras.optimizers.legacy import Adam\n",
    "adam=Adam(learning_rate=0.001)\n",
    "model.compile(optimizer='adam', loss='categorical_crossentropy', metrics = ['acc'])"
   ]
  },
  {
   "cell_type": "code",
   "execution_count": 112,
   "metadata": {},
   "outputs": [
    {
     "name": "stdout",
     "output_type": "stream",
     "text": [
      "Found 120 images belonging to 3 classes.\n",
      "Found 120 images belonging to 3 classes.\n"
     ]
    }
   ],
   "source": [
    "bs=30         #Setting batch size\n",
    "train_dir = (\"C:/Users/Adikutta/aiforyouthproject/Landscape Classification/train/\")   #Setting training directory\n",
    "validation_dir = (\"C:/Users/Adikutta/aiforyouthproject/Landscape Classification/testing/\")   #Setting testing directory\n",
    "from tensorflow.keras.preprocessing.image import ImageDataGenerator \n",
    "# All images will be rescaled by 1./255.\n",
    "train_datagen = ImageDataGenerator( rescale = 1.0/255. )\n",
    "test_datagen  = ImageDataGenerator( rescale = 1.0/255. )\n",
    "# Flow training images in batches of 20 using train_datagen generator\n",
    "#Flow_from_directory function lets the classifier directly identify the labels from the name of the directories the image lies in\n",
    "train_generator=train_datagen.flow_from_directory(train_dir,batch_size=bs,class_mode='categorical',target_size=(180,180))\n",
    "# Flow validation images in batches of 20 using test_datagen generator\n",
    "validation_generator =  test_datagen.flow_from_directory(validation_dir,\n",
    "                                                         batch_size=bs,\n",
    "                                                         class_mode  = 'categorical',\n",
    "                                                         target_size=(180,180))"
   ]
  },
  {
   "cell_type": "code",
   "execution_count": 115,
   "metadata": {},
   "outputs": [
    {
     "name": "stdout",
     "output_type": "stream",
     "text": [
      "Epoch 1/30\n",
      "4/4 - 6s - loss: 0.0373 - acc: 0.9917 - val_loss: 0.4731 - val_acc: 0.9000 - 6s/epoch - 1s/step\n",
      "Epoch 2/30\n",
      "4/4 - 6s - loss: 0.2359 - acc: 0.9667 - val_loss: 0.0305 - val_acc: 1.0000 - 6s/epoch - 1s/step\n",
      "Epoch 3/30\n",
      "4/4 - 6s - loss: 0.5366 - acc: 0.8583 - val_loss: 0.5726 - val_acc: 0.9000 - 6s/epoch - 1s/step\n",
      "Epoch 4/30\n",
      "4/4 - 6s - loss: 0.4358 - acc: 0.8833 - val_loss: 0.3576 - val_acc: 0.9333 - 6s/epoch - 1s/step\n",
      "Epoch 5/30\n",
      "4/4 - 6s - loss: 0.3099 - acc: 0.8917 - val_loss: 0.3368 - val_acc: 0.8667 - 6s/epoch - 1s/step\n",
      "Epoch 6/30\n",
      "4/4 - 6s - loss: 0.2525 - acc: 0.9667 - val_loss: 0.1975 - val_acc: 0.9333 - 6s/epoch - 2s/step\n",
      "Epoch 7/30\n",
      "4/4 - 6s - loss: 0.0849 - acc: 0.9833 - val_loss: 0.2231 - val_acc: 0.9000 - 6s/epoch - 2s/step\n",
      "Epoch 8/30\n",
      "4/4 - 6s - loss: 0.0297 - acc: 0.9917 - val_loss: 0.2610 - val_acc: 0.9333 - 6s/epoch - 2s/step\n",
      "Epoch 9/30\n",
      "4/4 - 6s - loss: 0.0417 - acc: 0.9833 - val_loss: 1.0900 - val_acc: 0.8333 - 6s/epoch - 2s/step\n",
      "Epoch 10/30\n",
      "4/4 - 7s - loss: 0.1883 - acc: 0.9583 - val_loss: 0.1044 - val_acc: 0.9667 - 7s/epoch - 2s/step\n",
      "Epoch 11/30\n",
      "4/4 - 7s - loss: 0.1859 - acc: 0.9583 - val_loss: 0.4606 - val_acc: 0.9000 - 7s/epoch - 2s/step\n",
      "Epoch 12/30\n",
      "4/4 - 7s - loss: 0.1734 - acc: 0.9167 - val_loss: 0.2521 - val_acc: 0.9000 - 7s/epoch - 2s/step\n",
      "Epoch 13/30\n",
      "4/4 - 7s - loss: 0.2253 - acc: 0.8917 - val_loss: 0.1339 - val_acc: 0.9667 - 7s/epoch - 2s/step\n",
      "Epoch 14/30\n",
      "4/4 - 7s - loss: 0.0969 - acc: 0.9750 - val_loss: 0.2804 - val_acc: 0.8667 - 7s/epoch - 2s/step\n",
      "Epoch 15/30\n",
      "4/4 - 7s - loss: 0.0716 - acc: 0.9833 - val_loss: 0.2097 - val_acc: 0.9667 - 7s/epoch - 2s/step\n",
      "Epoch 16/30\n",
      "4/4 - 7s - loss: 0.0480 - acc: 0.9917 - val_loss: 0.2415 - val_acc: 0.9333 - 7s/epoch - 2s/step\n",
      "Epoch 17/30\n",
      "4/4 - 7s - loss: 0.0155 - acc: 0.9917 - val_loss: 0.0314 - val_acc: 0.9667 - 7s/epoch - 2s/step\n",
      "Epoch 18/30\n",
      "4/4 - 8s - loss: 0.0150 - acc: 0.9917 - val_loss: 0.0388 - val_acc: 1.0000 - 8s/epoch - 2s/step\n",
      "Epoch 19/30\n",
      "4/4 - 9s - loss: 0.0078 - acc: 1.0000 - val_loss: 0.5177 - val_acc: 0.9000 - 9s/epoch - 2s/step\n",
      "Epoch 20/30\n",
      "4/4 - 9s - loss: 0.0118 - acc: 0.9917 - val_loss: 0.3944 - val_acc: 0.9000 - 9s/epoch - 2s/step\n",
      "Epoch 21/30\n",
      "4/4 - 7s - loss: 0.0019 - acc: 1.0000 - val_loss: 0.1641 - val_acc: 0.9667 - 7s/epoch - 2s/step\n",
      "Epoch 22/30\n",
      "4/4 - 7s - loss: 9.1090e-04 - acc: 1.0000 - val_loss: 0.2408 - val_acc: 0.9000 - 7s/epoch - 2s/step\n",
      "Epoch 23/30\n",
      "4/4 - 7s - loss: 8.7910e-04 - acc: 1.0000 - val_loss: 0.0391 - val_acc: 0.9667 - 7s/epoch - 2s/step\n",
      "Epoch 24/30\n",
      "4/4 - 7s - loss: 0.0011 - acc: 1.0000 - val_loss: 0.2345 - val_acc: 0.9667 - 7s/epoch - 2s/step\n",
      "Epoch 25/30\n",
      "4/4 - 7s - loss: 0.0046 - acc: 1.0000 - val_loss: 0.4101 - val_acc: 0.9333 - 7s/epoch - 2s/step\n",
      "Epoch 26/30\n",
      "4/4 - 7s - loss: 3.4089e-04 - acc: 1.0000 - val_loss: 0.5115 - val_acc: 0.8667 - 7s/epoch - 2s/step\n",
      "Epoch 27/30\n",
      "4/4 - 7s - loss: 0.0141 - acc: 0.9917 - val_loss: 0.1019 - val_acc: 0.9667 - 7s/epoch - 2s/step\n",
      "Epoch 28/30\n",
      "4/4 - 7s - loss: 0.0394 - acc: 0.9833 - val_loss: 0.8838 - val_acc: 0.8000 - 7s/epoch - 2s/step\n",
      "Epoch 29/30\n",
      "4/4 - 7s - loss: 0.0853 - acc: 0.9833 - val_loss: 2.0645 - val_acc: 0.7333 - 7s/epoch - 2s/step\n",
      "Epoch 30/30\n",
      "4/4 - 7s - loss: 0.0289 - acc: 0.9917 - val_loss: 0.3554 - val_acc: 0.9333 - 7s/epoch - 2s/step\n"
     ]
    }
   ],
   "source": [
    "history = model.fit(train_generator,\n",
    "                    validation_data=validation_generator,\n",
    "                    steps_per_epoch=125 // bs,\n",
    "                    epochs=30,\n",
    "                    validation_steps=50 // bs,\n",
    "                    verbose=2)"
   ]
  },
  {
   "cell_type": "code",
   "execution_count": 114,
   "metadata": {},
   "outputs": [
    {
     "name": "stdout",
     "output_type": "stream",
     "text": [
      "['WIN_20220831_10_26_10_Pro.jpg', 'WIN_20220831_10_32_17_Pro.jpg', 'WIN_20220903_11_35_51_Pro.jpg', 'WIN_20220908_15_58_33_Pro.jpg']\n",
      "the lat/long of WIN_20220831_10_26_10_Pro.jpg is: {'Latitude': 13.064792593222222, 'Longitude': 77.57186367727499}\n",
      "the lat/long of WIN_20220831_10_32_17_Pro.jpg is: {'Latitude': 13.06452373427778, 'Longitude': 77.57180415432222}\n",
      "the lat/long of WIN_20220903_11_35_51_Pro.jpg is: {'Latitude': 13.064215, 'Longitude': 77.5718345}\n",
      "the lat/long of WIN_20220908_15_58_33_Pro.jpg is: {'Latitude': 13.065042479250002, 'Longitude': 77.57193531196944}\n"
     ]
    }
   ],
   "source": [
    "#NOW WE FIND THE COORDINATES OF THE IMAGE TAKEN\n",
    "import os\n",
    "\n",
    "os.chdir('D:/User-Files/Adikutta/Pictures/Camera Roll/')\n",
    "image_list = os.listdir()\n",
    "image_list = [a for a in image_list if a.endswith('.jpg')]\n",
    "\n",
    "print(image_list)\n",
    "\n",
    "from GPSPhoto import gpsphoto\n",
    "\n",
    "for a in image_list: \n",
    "    data = gpsphoto.getGPSData(os.getcwd() + f'\\\\{a}')\n",
    "    print(\"the lat/long of\",a,\"is:\",data)"
   ]
  },
  {
   "cell_type": "code",
   "execution_count": null,
   "metadata": {},
   "outputs": [],
   "source": []
  }
 ],
 "metadata": {
  "colab": {
   "collapsed_sections": [],
   "name": "Notebook 1.ipynb",
   "provenance": [
    {
     "file_id": "133e8dUp9uHn7Biu3OwxUoYuWnc_OAaUU",
     "timestamp": 1612365483754
    }
   ]
  },
  "kernelspec": {
   "display_name": "Python 3 (ipykernel)",
   "language": "python",
   "name": "python3"
  },
  "language_info": {
   "codemirror_mode": {
    "name": "ipython",
    "version": 3
   },
   "file_extension": ".py",
   "mimetype": "text/x-python",
   "name": "python",
   "nbconvert_exporter": "python",
   "pygments_lexer": "ipython3",
   "version": "3.10.9"
  }
 },
 "nbformat": 4,
 "nbformat_minor": 1
}
